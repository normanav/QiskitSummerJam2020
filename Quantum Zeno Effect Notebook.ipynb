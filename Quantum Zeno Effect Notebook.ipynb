{
 "cells": [
  {
   "cell_type": "code",
   "execution_count": 1,
   "metadata": {},
   "outputs": [],
   "source": [
    "from qiskit import *\n",
    "%matplotlib inline\n",
    "import numpy as np"
   ]
  },
  {
   "cell_type": "code",
   "execution_count": null,
   "metadata": {},
   "outputs": [],
   "source": [
    "#Let's take a set of N beamsplitters, each with a reflectivity of R = cos^2(pi/(2N))\n",
    "#If we line them up, we'll get statistics that look quite a bit like an X gate with\n",
    "#one pathway of light being the |0> state and the other being |1>. The |0> state just\n",
    "#means that the photons went straight through the beamsplitters without veering off \n",
    "#onto the new path. The |1> state means the photon went off on the new path.\n",
    "N = 2 #number of beamsplitters\n",
    "theta = np.pi/N\n",
    "nphotons = 10\n",
    "backend = Aer.get_backend('qasm_simulator')\n",
    "\n",
    "q = QuantumRegister(1)\n",
    "c = ClassicalRegister(1)\n",
    "circuit = QuantumCircuit(q,c)\n",
    "for i in range(N):\n",
    "    circuit.rx(theta, q[0])\n",
    "circuit.measure(q[0], c[0])\n",
    "result = execute(circuit, backend=backend, shots = nphotons).result()\n",
    "counts = result.get_counts()\n",
    "# ntrans = counts.get(endstate)\n",
    "print('Theoretical Prediction percent photons in |1>:', 1-(np.sin(theta/2)**2)**N)"
   ]
  },
  {
   "cell_type": "code",
   "execution_count": null,
   "metadata": {},
   "outputs": [],
   "source": [
    "counts"
   ]
  },
  {
   "cell_type": "code",
   "execution_count": null,
   "metadata": {},
   "outputs": [],
   "source": [
    "q = QuantumRegister(1)\n",
    "c = ClassicalRegister(1)\n",
    "circuit = QuantumCircuit(q,c)\n",
    "backend = Aer.get_backend('qasm_simulator')\n",
    "#Let's put an object in the way of the beamsplitters, such that if a photon does cross over,\n",
    "#it is absorbed by the object:\n",
    "N = 2 #number of beamsplitters\n",
    "theta = np.pi/(N) # A measure of the reflectivity of the beamsplitter\n",
    "nphotons = 10**2 #The number of photons we'll send through the system\n",
    "endstate = '0'*N #Now if there is an object blocking the photon's upper path, we require that\n",
    "                #ALL photons stay on the bottom path in order to be detected.\n",
    "                #If our photon stays in the 0 state through all the beamsplitters, we can say that\n",
    "                #it has been transmitted, and we'll see it on our detector as all |0> states.\n",
    "                #Without the object blocking the way, we'll see all |1> states like we did above\n",
    "\n",
    "q = QuantumRegister(1)\n",
    "c = ClassicalRegister(N)\n",
    "circuit = QuantumCircuit(q,c)\n",
    "for i in range(N):\n",
    "    circuit.rx(theta, q[0])\n",
    "    circuit.measure(q[0], c[i])\n",
    "result = execute(circuit, backend=backend, shots = nphotons).result()\n",
    "counts = result.get_counts()\n",
    "ntrans = counts.get(endstate)\n",
    "\n",
    "\n",
    "\n",
    "print('Number photons transmitted:', ntrans)\n",
    "print('Percent photons transmitted:', ntrans/nphotons)\n",
    "print('Theoretical Prediction percent photons transmitted:', (np.cos(theta/2)**2)**N)"
   ]
  },
  {
   "cell_type": "code",
   "execution_count": null,
   "metadata": {},
   "outputs": [],
   "source": [
    "\n",
    "# for i in range(2, 6):\n",
    "i = 3\n",
    "theta = np.pi/(i)\n",
    "\n",
    "print('Number beamsplitters:', i, 'Loss from 1 Beamsplitter:', 1-(np.cos(theta/2)**2),'Prediction percent photons transmitted:', (np.cos(theta/2)**2)**i)"
   ]
  },
  {
   "cell_type": "code",
   "execution_count": null,
   "metadata": {},
   "outputs": [],
   "source": [
    "circuit.draw(output='mpl',)"
   ]
  },
  {
   "cell_type": "code",
   "execution_count": 8,
   "metadata": {},
   "outputs": [
    {
     "data": {
      "image/png": "[encoded data removed]",
      "text/plain": [
       "<Figure size 786.212x144.48 with 1 Axes>"
      ]
     },
     "execution_count": 8,
     "metadata": {},
     "output_type": "execute_result"
    }
   ],
   "source": [
    "N = 5\n",
    "q = QuantumRegister(1)\n",
    "c = ClassicalRegister(1)\n",
    "circuit = QuantumCircuit(q,c)\n",
    "theta = np.pi/(N)\n",
    "for i in range(N):\n",
    "    circuit.rx(theta, q[0])\n",
    "    circuit.barrier(q[0])\n",
    "circuit.measure(q[0], c[0])\n",
    "    \n",
    "fname = 'figures/'+str(N)+'beamsplitter_noobject_circuit.png'\n",
    "circuit.draw(output='mpl',filename=fname)"
   ]
  },
  {
   "cell_type": "code",
   "execution_count": 4,
   "metadata": {},
   "outputs": [],
   "source": [
    "from matplotlib.backends.backend_qt5agg import FigureCanvasQTAgg as FigureCanvas, \\\n",
    "    NavigationToolbar2QT as NavigationToolbar\n",
    "from matplotlib.figure import Figure\n",
    "import matplotlib.pyplot as plt\n",
    "\n"
   ]
  },
  {
   "cell_type": "code",
   "execution_count": null,
   "metadata": {},
   "outputs": [],
   "source": [
    "counts"
   ]
  },
  {
   "cell_type": "code",
   "execution_count": null,
   "metadata": {},
   "outputs": [],
   "source": [
    "plt.bar(counts.keys(), counts.values())"
   ]
  },
  {
   "cell_type": "code",
   "execution_count": null,
   "metadata": {},
   "outputs": [],
   "source": []
  },
  {
   "cell_type": "code",
   "execution_count": null,
   "metadata": {},
   "outputs": [],
   "source": []
  },
  {
   "cell_type": "code",
   "execution_count": null,
   "metadata": {},
   "outputs": [],
   "source": []
  }
 ],
 "metadata": {
  "kernelspec": {
   "display_name": "Python 3",
   "language": "python",
   "name": "python3"
  },
  "language_info": {
   "codemirror_mode": {
    "name": "ipython",
    "version": 3
   },
   "file_extension": ".py",
   "mimetype": "text/x-python",
   "name": "python",
   "nbconvert_exporter": "python",
   "pygments_lexer": "ipython3",
   "version": "3.7.3"
  }
 },
 "nbformat": 4,
 "nbformat_minor": 2
}
